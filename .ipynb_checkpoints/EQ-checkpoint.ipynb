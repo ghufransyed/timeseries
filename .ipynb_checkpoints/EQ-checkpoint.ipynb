{
 "cells": [
  {
   "cell_type": "code",
   "execution_count": 3,
   "metadata": {},
   "outputs": [],
   "source": [
    "from fastai.vision import * #import from vision to use the classification interpreter\n",
    "from pathlib import Path\n",
    "import pdb\n",
    "import seaborn as sns\n",
    "from scipy.signal import resample\n",
    "from sklearn.decomposition import PCA\n",
    "path = Path(\"earthquake\")\n",
    "from timeseries import TimeSeriesItem, TimeSeriesList, UCRArchive"
   ]
  },
  {
   "cell_type": "code",
   "execution_count": null,
   "metadata": {
    "scrolled": true
   },
   "outputs": [],
   "source": [
    "trainDF = pd.read_csv(path/\"train.csv\",dtype={\"acoustic_data\": np.float32, \"time_to_failure\": np.float32})"
   ]
  },
  {
   "cell_type": "code",
   "execution_count": 4,
   "metadata": {},
   "outputs": [
    {
     "name": "stderr",
     "output_type": "stream",
     "text": [
      "C:\\Users\\lordn\\Anaconda3\\envs\\fastai\\lib\\site-packages\\pandas\\io\\feather_format.py:112: FutureWarning: `nthreads` argument is deprecated, pass `use_threads` instead\n",
      "  return feather.read_dataframe(path, nthreads=nthreads)\n"
     ]
    }
   ],
   "source": [
    "trainDF = pd.read_feather(path/\"eq.feather\")"
   ]
  },
  {
   "cell_type": "code",
   "execution_count": 5,
   "metadata": {},
   "outputs": [
    {
     "data": {
      "text/plain": [
       "[<matplotlib.lines.Line2D at 0x1419db107f0>]"
      ]
     },
     "execution_count": 5,
     "metadata": {},
     "output_type": "execute_result"
    },
    {
     "data": {
      "image/png": "[encoded data removed]",
      "text/plain": [
       "<Figure size 432x288 with 1 Axes>"
      ]
     },
     "metadata": {
      "needs_background": "light"
     },
     "output_type": "display_data"
    }
   ],
   "source": [
    "sample_freq = 100\n",
    "plt.plot(trainDF.acoustic_data.values[::sample_freq])\n",
    "plt.plot(trainDF.time_to_failure.values[::sample_freq]*100)"
   ]
  },
  {
   "cell_type": "code",
   "execution_count": null,
   "metadata": {},
   "outputs": [],
   "source": [
    "x = pd.DataFrame(np.random.rand(10,20))"
   ]
  },
  {
   "cell_type": "code",
   "execution_count": null,
   "metadata": {},
   "outputs": [],
   "source": [
    "r = x.rolling(2,axis=1)\n",
    "r = r.std()"
   ]
  },
  {
   "cell_type": "code",
   "execution_count": null,
   "metadata": {},
   "outputs": [],
   "source": [
    "r.dropna(axis=1)\n",
    "#r.dropna(axis=1)\n",
    "#"
   ]
  },
  {
   "cell_type": "code",
   "execution_count": null,
   "metadata": {},
   "outputs": [],
   "source": [
    "def get_rolling_stats(z):\n",
    "    x_raw = pd.DataFrame(z)\n",
    "    features = []\n",
    "    for windows in [10,100]:\n",
    "        x_roll_std = x_raw.rolling(windows,axis=1).std().dropna(axis=1).values\n",
    "        x_roll_mean = x_raw.rolling(windows,axis=1).mean().dropna(axis=1).values\n",
    "\n",
    "        features += [x_roll_std.mean(axis=1), x_roll_std.std(axis=1), x_roll_std.max(axis=1), x_roll_std.min(axis=1),\n",
    "                     np.quantile(x_roll_std,0.01,axis=1), np.quantile(x_roll_std,0.05,axis=1), np.quantile(x_roll_std,0.95,axis=1),\n",
    "                     np.quantile(x_roll_std,0.99,axis=1), np.mean(np.diff(x_roll_std),axis=1),\n",
    "                     np.abs(x_roll_std).max(axis=1)]\n",
    "        features += [x_roll_mean.mean(axis=1),x_roll_mean.std(axis=1),x_roll_mean.max(axis=1),x_roll_mean.min(axis=1),\n",
    "                    np.quantile(x_roll_mean,0.01,axis=1),np.quantile(x_roll_mean,0.05,axis=1),np.quantile(x_roll_mean,0.95,axis=1),\n",
    "                    np.quantile(x_roll_mean,0.99,axis=1),np.mean(np.diff(x_roll_mean),axis=1),\n",
    "                    np.abs(x_roll_mean).max(axis=1)]\n",
    "        \n",
    "    return features"
   ]
  },
  {
   "cell_type": "code",
   "execution_count": 6,
   "metadata": {},
   "outputs": [],
   "source": [
    "def extract_features(z):\n",
    "    features = [z.mean(axis=1),\n",
    "                *np.quantile(z,[.01,.05,.95,.99],axis=1),\n",
    "                z.min(axis=1),\n",
    "                z.max(axis=1),\n",
    "                z.std(axis=1)]\n",
    "    \n",
    "    return np.stack(features,axis=1)"
   ]
  },
  {
   "cell_type": "code",
   "execution_count": 7,
   "metadata": {},
   "outputs": [
    {
     "data": {
      "text/plain": [
       "(10, 8)"
      ]
     },
     "execution_count": 7,
     "metadata": {},
     "output_type": "execute_result"
    }
   ],
   "source": [
    "extract_features(np.random.rand(10,1000)).shape"
   ]
  },
  {
   "cell_type": "code",
   "execution_count": 8,
   "metadata": {},
   "outputs": [],
   "source": [
    "def create_X(x, last_index=None, n_steps=150, step_length=1000):\n",
    "    if last_index == None:\n",
    "        last_index=len(x)\n",
    "       \n",
    "    assert last_index - n_steps * step_length >= 0\n",
    "\n",
    "    # Reshaping and approximate standardization with mean 5 and std 3.\n",
    "    x = x[(last_index - n_steps * step_length):last_index]\n",
    "    temp = (x.reshape(n_steps, -1) - 5 ) / 3\n",
    "\n",
    "    # Extracts features of sequences of full length 1000, of the last 100 values and finally also \n",
    "    # of the last 10 observations. \n",
    "    return np.c_[extract_features(temp),\n",
    "                 extract_features(temp[:, -step_length // 10:]),\n",
    "                 extract_features(temp[:, -step_length // 100:])]"
   ]
  },
  {
   "cell_type": "code",
   "execution_count": 9,
   "metadata": {},
   "outputs": [],
   "source": [
    "class RandPosDS(torch.utils.data.Dataset):\n",
    "    def __init__(self,data,min_index=0,max_index=0,n_steps=150,step_length=1000):\n",
    "        self.data, self.n_steps, self.step_length = data, n_steps, step_length\n",
    "        self.min_index = min_index\n",
    "        self.max_index = max_index if max_index > 0 else len(data) - 1\n",
    "        \n",
    "    def __len__(self): return 2000\n",
    "    \n",
    "    def __getitem__(self,idx):\n",
    "        end = np.random.randint(self.min_index + self.n_steps * self.step_length,self.max_index)\n",
    "        return (create_X(self.data[:,0],last_index=end,n_steps=self.n_steps,step_length=self.step_length).astype(np.float32),\n",
    "                self.data[end,1])"
   ]
  },
  {
   "cell_type": "code",
   "execution_count": 26,
   "metadata": {},
   "outputs": [],
   "source": [
    "class RandPosPregenDS(torch.utils.data.Dataset):\n",
    "    def __init__(self,data,length=2000,min_index=0,max_index=0,n_steps=150,step_length=1000):\n",
    "        self.data, self.n_steps, self.step_length, self.length = data, n_steps, step_length, length\n",
    "        self.min_index = min_index\n",
    "        self.max_index = max_index if max_index > 0 else len(data) - 1\n",
    "        self.out = []\n",
    "        for i in range(self.length):\n",
    "            end = np.random.randint(self.min_index + self.n_steps * self.step_length,self.max_index)\n",
    "            self.out.append((create_X(self.data[:,0],last_index=end,n_steps=self.n_steps,step_length=self.step_length).astype(np.float32),\n",
    "                             self.data[end,1]))\n",
    "        \n",
    "    def __len__(self): return self.length\n",
    "    \n",
    "    def __getitem__(self,idx):\n",
    "        return self.out[idx]"
   ]
  },
  {
   "cell_type": "code",
   "execution_count": 52,
   "metadata": {},
   "outputs": [],
   "source": [
    "second_earthquake = 50085877\n",
    "trainDS = RandPosDS(trainDF.values)\n",
    "valDS = RandPosPregenDS(trainDF.values,max_index = second_earthquake)\n",
    "trainDS.items = [1,2,3]\n",
    "valDS.items = [1,2,3]\n",
    "data = DataBunch.create(trainDS,valDS,num_workers=0)"
   ]
  },
  {
   "cell_type": "code",
   "execution_count": null,
   "metadata": {},
   "outputs": [],
   "source": [
    "testX = []\n",
    "testL = []\n",
    "for f in progress_bar(list((path/\"test\").glob(\"*.csv\"))):\n",
    "    seg_id = f.name[:-4]\n",
    "    testL.append(seg_id)\n",
    "    df = pd.read_csv(f,dtype={\"acoustic_data\": np.float32})\n",
    "    x = df.acoustic_data.values\n",
    "    testX.append(create_X(x))\n",
    "    \n",
    "testX = np.stack(testX)"
   ]
  },
  {
   "cell_type": "code",
   "execution_count": null,
   "metadata": {},
   "outputs": [],
   "source": [
    "dataTest = (TimeSeriesList.from_numpy(testX)\n",
    "                          .no_split()\n",
    "                          .label_from_list(testL)\n",
    "                          .databunch(bs=32,num_workers=0))"
   ]
  },
  {
   "cell_type": "code",
   "execution_count": 11,
   "metadata": {},
   "outputs": [],
   "source": [
    "n_features = create_X(trainDF.acoustic_data.values[0:150000]).shape[1]"
   ]
  },
  {
   "cell_type": "code",
   "execution_count": 46,
   "metadata": {},
   "outputs": [],
   "source": [
    "class BasicLSTM(torch.nn.Module):\n",
    "    def __init__(self,n_features):\n",
    "        super().__init__()\n",
    "        self.rnn = torch.nn.LSTM(n_features,100,2,batch_first=True,bidirectional=True)\n",
    "        self.out = create_head_1d(200,1,lin_ftrs=[200,300])\n",
    "        \n",
    "    def forward(self,ts):\n",
    "        output,(h_n,c_n) = self.rnn(ts)\n",
    "        x = torch.cat([h_n[-1],h_n[-2]],dim=-1)\n",
    "        output = self.out(x).squeeze(-1)\n",
    "        return torch.sigmoid(output) * 20.0"
   ]
  },
  {
   "cell_type": "code",
   "execution_count": 47,
   "metadata": {},
   "outputs": [],
   "source": [
    "class EQClassifier(torch.nn.Module):\n",
    "    def __init__(self,n_features,maxY=20.0):\n",
    "        super().__init__()\n",
    "        self.maxY =  maxY\n",
    "        #self.conv = SidekickResnet(1,3,3,6,12,n_features=n_features,start_nf=16,start_nf_hero=16)\n",
    "        self.conv = HeroResnet(3,3,3,start_nf=48,n_features=n_features)\n",
    "        self.out = create_head_1d(self.conv.nf,1)\n",
    "        \n",
    "    def forward(self,ts):\n",
    "        ts, _ = self.conv(ts.transpose(1,2))\n",
    "        return torch.sigmoid(self.out(ts.squeeze(-1)).squeeze(-1)) * self.maxY"
   ]
  },
  {
   "cell_type": "code",
   "execution_count": 48,
   "metadata": {},
   "outputs": [],
   "source": [
    "def mean_absolute_error(pred:Tensor, targ:Tensor)->Rank0Tensor:\n",
    "    return torch.abs(pred-targ).mean()"
   ]
  },
  {
   "cell_type": "code",
   "execution_count": 57,
   "metadata": {},
   "outputs": [],
   "source": [
    "#model=BasicLSTM(n_features)\n",
    "model = EQClassifier(n_features)\n",
    "learn = Learner(data,model,loss_func=F.mse_loss,metrics=[mean_absolute_error])"
   ]
  },
  {
   "cell_type": "code",
   "execution_count": 58,
   "metadata": {},
   "outputs": [
    {
     "data": {
      "text/plain": [
       "torch.Size([64])"
      ]
     },
     "execution_count": 58,
     "metadata": {},
     "output_type": "execute_result"
    }
   ],
   "source": [
    "learn.model(next(iter(data.train_dl))[0]).size()"
   ]
  },
  {
   "cell_type": "code",
   "execution_count": null,
   "metadata": {},
   "outputs": [],
   "source": [
    "learn.lr_find()\n",
    "learn.recorder.plot()"
   ]
  },
  {
   "cell_type": "code",
   "execution_count": null,
   "metadata": {
    "scrolled": false
   },
   "outputs": [
    {
     "data": {
      "text/html": [
       "\n",
       "    <div>\n",
       "        <style>\n",
       "            /* Turns off some styling */\n",
       "            progress {\n",
       "                /* gets rid of default border in Firefox and Opera. */\n",
       "                border: none;\n",
       "                /* Needs to be in here for Safari polyfill so background images work as expected. */\n",
       "                background-size: auto;\n",
       "            }\n",
       "            .progress-bar-interrupted, .progress-bar-interrupted::-webkit-progress-bar {\n",
       "                background: #F44336;\n",
       "            }\n",
       "        </style>\n",
       "      <progress value='0' class='' max='10', style='width:300px; height:20px; vertical-align: middle;'></progress>\n",
       "      0.00% [0/10 00:00<00:00]\n",
       "    </div>\n",
       "    \n",
       "<table style='width:300px; margin-bottom:10px'>\n",
       "  <tr>\n",
       "    <th>epoch</th>\n",
       "    <th>train_loss</th>\n",
       "    <th>valid_loss</th>\n",
       "    <th>mean_absolute_error</th>\n",
       "  </tr>\n",
       "</table>\n",
       "\n",
       "\n",
       "    <div>\n",
       "        <style>\n",
       "            /* Turns off some styling */\n",
       "            progress {\n",
       "                /* gets rid of default border in Firefox and Opera. */\n",
       "                border: none;\n",
       "                /* Needs to be in here for Safari polyfill so background images work as expected. */\n",
       "                background-size: auto;\n",
       "            }\n",
       "            .progress-bar-interrupted, .progress-bar-interrupted::-webkit-progress-bar {\n",
       "                background: #F44336;\n",
       "            }\n",
       "        </style>\n",
       "      <progress value='8' class='' max='31', style='width:300px; height:20px; vertical-align: middle;'></progress>\n",
       "      25.81% [8/31 00:19<00:55 28.6972]\n",
       "    </div>\n",
       "    "
      ],
      "text/plain": [
       "<IPython.core.display.HTML object>"
      ]
     },
     "metadata": {},
     "output_type": "display_data"
    }
   ],
   "source": [
    "learn.fit_one_cycle(10,1e-3,wd=0.2)"
   ]
  },
  {
   "cell_type": "code",
   "execution_count": null,
   "metadata": {},
   "outputs": [],
   "source": [
    "learnTest = Learner(dataTest,model,loss_func=F.mse_loss)"
   ]
  },
  {
   "cell_type": "code",
   "execution_count": null,
   "metadata": {},
   "outputs": [],
   "source": [
    "preds,lbl = learnTest.get_preds(DatasetType.Train)"
   ]
  },
  {
   "cell_type": "code",
   "execution_count": null,
   "metadata": {},
   "outputs": [],
   "source": [
    "lbl = [dataTest.y.classes[l.item()] for l in lbl]"
   ]
  },
  {
   "cell_type": "code",
   "execution_count": null,
   "metadata": {},
   "outputs": [],
   "source": [
    "preds = preds.tolist()"
   ]
  },
  {
   "cell_type": "code",
   "execution_count": null,
   "metadata": {},
   "outputs": [],
   "source": [
    "testOutDF = pd.DataFrame({\"seg_id\": lbl,\"time_to_failure\":preds})\n",
    "testOutDF.head()"
   ]
  },
  {
   "cell_type": "code",
   "execution_count": null,
   "metadata": {},
   "outputs": [],
   "source": [
    "testOutDF.to_csv(path/\"out.csv\",index=False)"
   ]
  },
  {
   "cell_type": "code",
   "execution_count": null,
   "metadata": {},
   "outputs": [],
   "source": [
    "dataAE = (TimeSeriesList.from_numpy(x)\n",
    "                      .no_split()\n",
    "                      .label_from_list(x[:,:,0],label_cls=TimeSeriesList)\n",
    "                      .databunch(bs=32,num_workers=0))"
   ]
  },
  {
   "cell_type": "code",
   "execution_count": null,
   "metadata": {},
   "outputs": [],
   "source": [
    "dataAE.one_batch()[1].shape"
   ]
  },
  {
   "cell_type": "code",
   "execution_count": null,
   "metadata": {},
   "outputs": [],
   "source": [
    "class EQAE(torch.nn.Module):\n",
    "    def __init__(self,n_features,seqLen):\n",
    "        super().__init__()\n",
    "        self.conv = WideResNet1d(3,3,6,n_features=n_features,start_nf=48)\n",
    "        self.mean = torch.nn.Linear(self.conv.nf,100)\n",
    "        self.logvar = torch.nn.Linear(self.conv.nf,100)\n",
    "\n",
    "        layers = []\n",
    "        for a,b in [(100,200),(200,300),(300,400)]:\n",
    "            layers += bn_drop_lin(a,b,actn=torch.nn.ReLU())\n",
    "        self.lin = torch.nn.Sequential(*layers)\n",
    "        self.out = torch.nn.Linear(400,seqLen)\n",
    "        \n",
    "    def forward(self,ts):\n",
    "        seqLen = ts.shape[1]\n",
    "        ts = self.conv(ts.transpose(1,2))\n",
    "        mean, logvar = self.mean(ts), self.logvar(ts)\n",
    "        \n",
    "        std = torch.exp(0.5 * logvar)\n",
    "        eps = torch.randn_like(std)\n",
    "        ls = eps.mul(std).add_(mean)\n",
    "        \n",
    "        return self.out(self.lin(ls)), mean, logvar"
   ]
  },
  {
   "cell_type": "code",
   "execution_count": null,
   "metadata": {},
   "outputs": [],
   "source": [
    "class VAELoss(torch.nn.Module):\n",
    "    def forward(self,p,target):\n",
    "        pred,mean,logvar = p\n",
    "        self.mse = torch.nn.functional.mse_loss(pred,target,reduction=\"sum\")\n",
    "        self.kld = -0.5 * torch.sum(1+logvar-mean.pow(2)-logvar.exp())\n",
    "        return self.mse + self.kld"
   ]
  },
  {
   "cell_type": "code",
   "execution_count": null,
   "metadata": {},
   "outputs": [],
   "source": [
    "learnAE = Learner(dataAE,EQAE(n_features,150),loss_func=VAELoss())"
   ]
  },
  {
   "cell_type": "code",
   "execution_count": null,
   "metadata": {},
   "outputs": [],
   "source": [
    "learnAE.model(dataAE.one_batch()[0].cuda())[0].size()"
   ]
  },
  {
   "cell_type": "code",
   "execution_count": null,
   "metadata": {},
   "outputs": [],
   "source": [
    "learnAE.lr_find()\n",
    "learnAE.recorder.plot()"
   ]
  },
  {
   "cell_type": "code",
   "execution_count": null,
   "metadata": {
    "scrolled": true
   },
   "outputs": [],
   "source": [
    "learnAE.fit_one_cycle(10,1e-2,wd=0.2)"
   ]
  },
  {
   "cell_type": "code",
   "execution_count": null,
   "metadata": {},
   "outputs": [],
   "source": [
    "learnAE.show_results(DatasetType.Train,channels=[0])"
   ]
  },
  {
   "cell_type": "code",
   "execution_count": 16,
   "metadata": {},
   "outputs": [],
   "source": [
    "def conv1d(ni:int, nf:int, ks:int=3, stride:int=1, padding:int=None, bias=False, init:LayerFunc=nn.init.kaiming_normal_) -> nn.Conv1d:\n",
    "    \"Create and initialize `nn.Conv1d` layer. `padding` defaults to `ks//2`.\"\n",
    "    if padding is None: padding = ks//2\n",
    "    return init_default(nn.Conv1d(ni, nf, kernel_size=ks, stride=stride, padding=padding, bias=bias), init)\n",
    "\n",
    "def _bn1d(ni, init_zero=False):\n",
    "    \"Batchnorm layer with 0 initialization\"\n",
    "    m = nn.BatchNorm1d(ni)\n",
    "    m.weight.data.fill_(0 if init_zero else 1)\n",
    "    m.bias.data.zero_()\n",
    "    return m\n",
    "\n",
    "def bn_relu_conv1d(ni, nf, ks, stride, init_zero=False):\n",
    "    bn_initzero = _bn1d(ni, init_zero=init_zero)\n",
    "    return nn.Sequential(bn_initzero, nn.ReLU(inplace=True), conv1d(ni, nf, ks, stride))\n",
    "\n",
    "class ResBlock(torch.nn.Module):\n",
    "    def __init__(self, ni, nf, stride, drop_p=0.0):\n",
    "        super().__init__()\n",
    "        self.bn = nn.BatchNorm1d(ni)\n",
    "        self.conv1 = conv1d(ni, nf, 3, stride)\n",
    "        self.conv2 = bn_relu_conv1d(nf, nf, 3, 1)\n",
    "        self.drop = nn.Dropout(drop_p, inplace=True) if drop_p else None\n",
    "        self.shortcut = conv1d(ni, nf, 1, stride) if ni != nf or stride > 1 else noop\n",
    "\n",
    "    def forward(self, x):\n",
    "        x2 = F.relu(self.bn(x), inplace=True)\n",
    "        r = self.shortcut(x2)\n",
    "        x = self.conv1(x2)\n",
    "        if self.drop: x = self.drop(x)\n",
    "        x = self.conv2(x) * 0.2\n",
    "        return x.add_(r)\n",
    "\n",
    "def _make_group(N, ni, nf, block, stride, drop_p):\n",
    "    return [block(ni if i == 0 else nf, nf, stride if i == 0 else 1, drop_p) for i in range(N)]\n",
    "\n",
    "class WideResNet1d(nn.Module):\n",
    "    \"Wide ResNet with `num_groups` and a width of `k`.\"\n",
    "    def __init__(self, num_groups:int, N:int, k:int=1, drop_p:float=0.0, start_nf:int=16,maxY=20.0):\n",
    "        super().__init__()\n",
    "        self.maxY = maxY\n",
    "        n_channels = [start_nf]\n",
    "        for i in range(num_groups): n_channels.append(start_nf*(2**i)*k)\n",
    "        \n",
    "        \n",
    "        layers = [conv1d(1, n_channels[0], 3, 1)]  # conv1\n",
    "        self.split_groups = [layers[-1]] \n",
    "        \n",
    "        for i in range(num_groups):\n",
    "            layers += _make_group(N, n_channels[i], n_channels[i+1], ResBlock, (1 if i==0 else 2), drop_p)\n",
    "            self.split_groups.append(layers[-N])\n",
    "            \n",
    "        layers += [nn.BatchNorm1d(n_channels[-1]), nn.ReLU(inplace=True), nn.AdaptiveAvgPool1d(1),\n",
    "                   Flatten()]\n",
    "        #self.split_groups.append(layers[-1])\n",
    "        self.nf = n_channels[-1]\n",
    "        self.features = nn.Sequential(*layers)\n",
    "\n",
    "    def forward(self, x):\n",
    "        #x = x.unsqueeze(1)\n",
    "        return self.features(x)"
   ]
  },
  {
   "cell_type": "code",
   "execution_count": 17,
   "metadata": {},
   "outputs": [],
   "source": [
    "def create_head_1d(nf:int, nc:int, lin_ftrs:Optional[Collection[int]]=None, ps:Floats=0.5, bn_final:bool=False):\n",
    "    \"Model head that takes `nf` features, runs through `lin_ftrs`, and about `nc` classes.\"\n",
    "    lin_ftrs = [nf, 512, nc] if lin_ftrs is None else [nf] + lin_ftrs + [nc]\n",
    "    ps = listify(ps)\n",
    "    if len(ps)==1: ps = [ps[0]/2] * (len(lin_ftrs)-2) + ps\n",
    "    actns = [nn.ReLU(inplace=True)] * (len(lin_ftrs)-2) + [None]\n",
    "    layers = []\n",
    "    for ni,no,p,actn in zip(lin_ftrs[:-1],lin_ftrs[1:],ps,actns):\n",
    "        layers += bn_drop_lin(ni,no,True,p,actn)\n",
    "    if bn_final: layers.append(nn.BatchNorm1d(lin_ftrs[-1], momentum=0.01))\n",
    "    return nn.Sequential(*layers)\n",
    "\n",
    "class HeroResnet(nn.Module):\n",
    "    def __init__(self, num_groups:int, N:int, k:int=1, n_features:int=1, drop_p:float=0.0, start_nf:int=16):\n",
    "        super().__init__()\n",
    "        n_channels = [start_nf]\n",
    "        for i in range(num_groups): n_channels.append(start_nf*(2**i)*k)\n",
    "\n",
    "        self.layer0 = conv1d(n_features,n_channels[0],3,1)\n",
    "        self.split_groups = [self.layer0]\n",
    "        \n",
    "        groups = [nn.Sequential(*_make_group(N,n_channels[i],n_channels[i+1],ResBlock,(1 if i==0 else 2),drop_p)) for i in range(num_groups)]\n",
    "        \n",
    "        self.groups = nn.ModuleList(groups)\n",
    "        for g in self.groups: self.split_groups.append(g)\n",
    "        \n",
    "        self.out = nn.Sequential(nn.BatchNorm1d(n_channels[-1]),\n",
    "                                 nn.ReLU(inplace=True),\n",
    "                                 nn.AdaptiveAvgPool1d(1))               \n",
    "        \n",
    "        self.split_groups.append(self.out)\n",
    "        self.nf = n_channels[-1]\n",
    "        \n",
    "    def forward(self, x):\n",
    "        actvns = [self.layer0(x)]\n",
    "        \n",
    "        for l in self.groups:\n",
    "            actvns.append(l(actvns[-1]))\n",
    "            \n",
    "        return self.out(actvns[-1]), actvns\n",
    "    \n",
    "class SidekickResnet(nn.Module):\n",
    "    def __init__(self, num_classes:int, num_groups:int, N:int, k:int=1, hero_k:int=1,n_features:int=1, drop_p:float=0.0, start_nf:int=16, start_nf_hero:int=16):\n",
    "        super().__init__()\n",
    "        n_channels = [start_nf]\n",
    "        \n",
    "        self.hero = HeroResnet(num_groups,N,hero_k,drop_p=drop_p,start_nf=start_nf_hero,n_features=n_features)\n",
    "        \n",
    "        for i in range(num_groups): n_channels.append(start_nf*(2**i)*k)\n",
    "            \n",
    "        n_channels_hero = [start_nf_hero]\n",
    "        for i in range(num_groups): n_channels_hero.append(start_nf_hero*(2**i)*hero_k)   \n",
    "            \n",
    "        self.layer0 = conv1d(n_features,n_channels[0],3,1)\n",
    "        \n",
    "        groups = [nn.Sequential(*_make_group(N,n_channels[i]+n_channels_hero[i],n_channels[i+1],ResBlock,(1 if i==0 else 2),drop_p)) for i in range(num_groups)]\n",
    "\n",
    "        \n",
    "        self.groups = nn.ModuleList(groups)\n",
    "        \n",
    "        self.avg = nn.Sequential(nn.BatchNorm1d(n_channels[-1]),\n",
    "                                 nn.ReLU(inplace=True),\n",
    "                                 nn.AdaptiveAvgPool1d(1))\n",
    "        \n",
    "        self.out = create_head_1d(n_channels[-1]+n_channels_hero[-1],num_classes)\n",
    "        \n",
    "    def forward(self,ts):\n",
    "        pt, actvns = self.hero(ts)\n",
    "        \n",
    "        x = self.layer0(ts)\n",
    "        for l,a in zip(self.groups,actvns):\n",
    "            x = l(torch.cat([x,a],dim=1))\n",
    "            \n",
    "        x = torch.cat([self.avg(x),pt],dim=1).squeeze(-1)\n",
    "        \n",
    "        return self.out(x)        "
   ]
  }
 ],
 "metadata": {
  "kernelspec": {
   "display_name": "Python 3",
   "language": "python",
   "name": "python3"
  },
  "language_info": {
   "codemirror_mode": {
    "name": "ipython",
    "version": 3
   },
   "file_extension": ".py",
   "mimetype": "text/x-python",
   "name": "python",
   "nbconvert_exporter": "python",
   "pygments_lexer": "ipython3",
   "version": "3.6.6"
  }
 },
 "nbformat": 4,
 "nbformat_minor": 2
}
